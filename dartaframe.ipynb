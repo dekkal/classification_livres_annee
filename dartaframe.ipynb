{
 "cells": [
  {
   "cell_type": "code",
   "execution_count": 18,
   "id": "1fb8a036",
   "metadata": {},
   "outputs": [],
   "source": [
    "import pandas as pd\n",
    "import numpy as np"
   ]
  },
  {
   "cell_type": "code",
   "execution_count": 19,
   "id": "043580a3",
   "metadata": {},
   "outputs": [],
   "source": [
    "data=pd.read_csv('books_n_description.csv')"
   ]
  },
  {
   "cell_type": "code",
   "execution_count": 20,
   "id": "56dfd307",
   "metadata": {},
   "outputs": [
    {
     "data": {
      "text/html": [
       "<div>\n",
       "<style scoped>\n",
       "    .dataframe tbody tr th:only-of-type {\n",
       "        vertical-align: middle;\n",
       "    }\n",
       "\n",
       "    .dataframe tbody tr th {\n",
       "        vertical-align: top;\n",
       "    }\n",
       "\n",
       "    .dataframe thead th {\n",
       "        text-align: right;\n",
       "    }\n",
       "</style>\n",
       "<table border=\"1\" class=\"dataframe\">\n",
       "  <thead>\n",
       "    <tr style=\"text-align: right;\">\n",
       "      <th></th>\n",
       "      <th>Unnamed: 0</th>\n",
       "      <th>isbn</th>\n",
       "      <th>title</th>\n",
       "      <th>author</th>\n",
       "      <th>pub_year</th>\n",
       "      <th>publisher</th>\n",
       "      <th>categories</th>\n",
       "      <th>description</th>\n",
       "    </tr>\n",
       "  </thead>\n",
       "  <tbody>\n",
       "    <tr>\n",
       "      <th>0</th>\n",
       "      <td>0</td>\n",
       "      <td>0002005018</td>\n",
       "      <td>Clara Callan</td>\n",
       "      <td>Richard Bruce Wright</td>\n",
       "      <td>2001.0</td>\n",
       "      <td>HarperFlamingo Canada</td>\n",
       "      <td>Actresses</td>\n",
       "      <td>In a small town in Canada, Clara Callan reluct...</td>\n",
       "    </tr>\n",
       "    <tr>\n",
       "      <th>1</th>\n",
       "      <td>1</td>\n",
       "      <td>0374157065</td>\n",
       "      <td>Flu: The Story of the Great Influenza Pandemic...</td>\n",
       "      <td>Gina Bari Kolata</td>\n",
       "      <td>1999.0</td>\n",
       "      <td>Farrar Straus Giroux</td>\n",
       "      <td>Medical</td>\n",
       "      <td>Describes the great flu epidemic of 1918, an o...</td>\n",
       "    </tr>\n",
       "    <tr>\n",
       "      <th>2</th>\n",
       "      <td>2</td>\n",
       "      <td>0399135782</td>\n",
       "      <td>The Kitchen God's Wife</td>\n",
       "      <td>Amy Tan</td>\n",
       "      <td>1991.0</td>\n",
       "      <td>Putnam Pub Group</td>\n",
       "      <td>Fiction</td>\n",
       "      <td>A Chinese immigrant who is convinced she is dy...</td>\n",
       "    </tr>\n",
       "    <tr>\n",
       "      <th>3</th>\n",
       "      <td>3</td>\n",
       "      <td>0440234743</td>\n",
       "      <td>The Testament</td>\n",
       "      <td>John Grisham</td>\n",
       "      <td>1999.0</td>\n",
       "      <td>Dell</td>\n",
       "      <td>Fiction</td>\n",
       "      <td>A suicidal billionaire, a burnt-out Washington...</td>\n",
       "    </tr>\n",
       "    <tr>\n",
       "      <th>4</th>\n",
       "      <td>4</td>\n",
       "      <td>0452264464</td>\n",
       "      <td>Beloved (Plume Contemporary Fiction)</td>\n",
       "      <td>Toni Morrison</td>\n",
       "      <td>1994.0</td>\n",
       "      <td>Plume</td>\n",
       "      <td>Fiction</td>\n",
       "      <td>Staring unflinchingly into the abyss of slaver...</td>\n",
       "    </tr>\n",
       "    <tr>\n",
       "      <th>5</th>\n",
       "      <td>5</td>\n",
       "      <td>0609804618</td>\n",
       "      <td>Our Dumb Century: The Onion Presents 100 Years...</td>\n",
       "      <td>The Onion</td>\n",
       "      <td>1999.0</td>\n",
       "      <td>Three Rivers Press</td>\n",
       "      <td>Humor</td>\n",
       "      <td>The staff of The Onion presents a satirical co...</td>\n",
       "    </tr>\n",
       "    <tr>\n",
       "      <th>6</th>\n",
       "      <td>6</td>\n",
       "      <td>1841721522</td>\n",
       "      <td>New Vegetarian: Bold and Beautiful Recipes for...</td>\n",
       "      <td>Celia Brooks Brown</td>\n",
       "      <td>2001.0</td>\n",
       "      <td>Ryland Peters &amp;amp; Small Ltd</td>\n",
       "      <td>Cooking</td>\n",
       "      <td>In New Vegetarian Celia Brooks Brown presents ...</td>\n",
       "    </tr>\n",
       "    <tr>\n",
       "      <th>7</th>\n",
       "      <td>7</td>\n",
       "      <td>0971880107</td>\n",
       "      <td>Wild Animus</td>\n",
       "      <td>Rich Shapero</td>\n",
       "      <td>2004.0</td>\n",
       "      <td>Too Far</td>\n",
       "      <td>Fiction</td>\n",
       "      <td>Wild animus is a search for the primordial, a ...</td>\n",
       "    </tr>\n",
       "    <tr>\n",
       "      <th>8</th>\n",
       "      <td>8</td>\n",
       "      <td>0345402871</td>\n",
       "      <td>Airframe</td>\n",
       "      <td>Michael Crichton</td>\n",
       "      <td>1997.0</td>\n",
       "      <td>Ballantine Books</td>\n",
       "      <td>Fiction</td>\n",
       "      <td>A fatal mid-air collision involving a commerci...</td>\n",
       "    </tr>\n",
       "    <tr>\n",
       "      <th>9</th>\n",
       "      <td>9</td>\n",
       "      <td>0345417623</td>\n",
       "      <td>Timeline</td>\n",
       "      <td>MICHAEL CRICHTON</td>\n",
       "      <td>2000.0</td>\n",
       "      <td>Ballantine Books</td>\n",
       "      <td>Fiction</td>\n",
       "      <td>Using a quantum time machine, a group of young...</td>\n",
       "    </tr>\n",
       "  </tbody>\n",
       "</table>\n",
       "</div>"
      ],
      "text/plain": [
       "   Unnamed: 0        isbn                                              title  \\\n",
       "0           0  0002005018                                       Clara Callan   \n",
       "1           1  0374157065  Flu: The Story of the Great Influenza Pandemic...   \n",
       "2           2  0399135782                             The Kitchen God's Wife   \n",
       "3           3  0440234743                                      The Testament   \n",
       "4           4  0452264464               Beloved (Plume Contemporary Fiction)   \n",
       "5           5  0609804618  Our Dumb Century: The Onion Presents 100 Years...   \n",
       "6           6  1841721522  New Vegetarian: Bold and Beautiful Recipes for...   \n",
       "7           7  0971880107                                        Wild Animus   \n",
       "8           8  0345402871                                           Airframe   \n",
       "9           9  0345417623                                           Timeline   \n",
       "\n",
       "                 author  pub_year                      publisher categories  \\\n",
       "0  Richard Bruce Wright    2001.0          HarperFlamingo Canada  Actresses   \n",
       "1      Gina Bari Kolata    1999.0           Farrar Straus Giroux    Medical   \n",
       "2               Amy Tan    1991.0               Putnam Pub Group    Fiction   \n",
       "3          John Grisham    1999.0                           Dell    Fiction   \n",
       "4         Toni Morrison    1994.0                          Plume    Fiction   \n",
       "5             The Onion    1999.0             Three Rivers Press      Humor   \n",
       "6    Celia Brooks Brown    2001.0  Ryland Peters &amp; Small Ltd    Cooking   \n",
       "7          Rich Shapero    2004.0                        Too Far    Fiction   \n",
       "8      Michael Crichton    1997.0               Ballantine Books    Fiction   \n",
       "9      MICHAEL CRICHTON    2000.0               Ballantine Books    Fiction   \n",
       "\n",
       "                                         description  \n",
       "0  In a small town in Canada, Clara Callan reluct...  \n",
       "1  Describes the great flu epidemic of 1918, an o...  \n",
       "2  A Chinese immigrant who is convinced she is dy...  \n",
       "3  A suicidal billionaire, a burnt-out Washington...  \n",
       "4  Staring unflinchingly into the abyss of slaver...  \n",
       "5  The staff of The Onion presents a satirical co...  \n",
       "6  In New Vegetarian Celia Brooks Brown presents ...  \n",
       "7  Wild animus is a search for the primordial, a ...  \n",
       "8  A fatal mid-air collision involving a commerci...  \n",
       "9  Using a quantum time machine, a group of young...  "
      ]
     },
     "execution_count": 20,
     "metadata": {},
     "output_type": "execute_result"
    }
   ],
   "source": [
    "data.head(10)"
   ]
  },
  {
   "cell_type": "code",
   "execution_count": null,
   "id": "560e28ef",
   "metadata": {},
   "outputs": [],
   "source": []
  },
  {
   "cell_type": "code",
   "execution_count": 24,
   "id": "361c2411",
   "metadata": {},
   "outputs": [
    {
     "data": {
      "text/plain": [
       "0    In a small town in Canada, Clara Callan reluct...\n",
       "1    Describes the great flu epidemic of 1918, an o...\n",
       "2    A Chinese immigrant who is convinced she is dy...\n",
       "3    A suicidal billionaire, a burnt-out Washington...\n",
       "4    Staring unflinchingly into the abyss of slaver...\n",
       "5    The staff of The Onion presents a satirical co...\n",
       "6    In New Vegetarian Celia Brooks Brown presents ...\n",
       "7    Wild animus is a search for the primordial, a ...\n",
       "8    A fatal mid-air collision involving a commerci...\n",
       "9    Using a quantum time machine, a group of young...\n",
       "Name: description, dtype: object"
      ]
     },
     "execution_count": 24,
     "metadata": {},
     "output_type": "execute_result"
    }
   ],
   "source": [
    "data['description'].head(10)"
   ]
  },
  {
   "cell_type": "code",
   "execution_count": 25,
   "id": "e1de6dcf",
   "metadata": {},
   "outputs": [],
   "source": [
    "def convert_to_classes(x):\n",
    "    if x < 2000:\n",
    "        return 'old'\n",
    "    else:\n",
    "        return 'new'"
   ]
  },
  {
   "cell_type": "code",
   "execution_count": 26,
   "id": "3ef2180a",
   "metadata": {},
   "outputs": [],
   "source": [
    "data['pub_year']=data['pub_year'].apply(convert_to_classes)"
   ]
  },
  {
   "cell_type": "code",
   "execution_count": 27,
   "id": "e6716490",
   "metadata": {},
   "outputs": [
    {
     "data": {
      "text/html": [
       "<div>\n",
       "<style scoped>\n",
       "    .dataframe tbody tr th:only-of-type {\n",
       "        vertical-align: middle;\n",
       "    }\n",
       "\n",
       "    .dataframe tbody tr th {\n",
       "        vertical-align: top;\n",
       "    }\n",
       "\n",
       "    .dataframe thead th {\n",
       "        text-align: right;\n",
       "    }\n",
       "</style>\n",
       "<table border=\"1\" class=\"dataframe\">\n",
       "  <thead>\n",
       "    <tr style=\"text-align: right;\">\n",
       "      <th></th>\n",
       "      <th>Unnamed: 0</th>\n",
       "      <th>isbn</th>\n",
       "      <th>title</th>\n",
       "      <th>author</th>\n",
       "      <th>pub_year</th>\n",
       "      <th>publisher</th>\n",
       "      <th>categories</th>\n",
       "      <th>description</th>\n",
       "    </tr>\n",
       "  </thead>\n",
       "  <tbody>\n",
       "    <tr>\n",
       "      <th>0</th>\n",
       "      <td>0</td>\n",
       "      <td>0002005018</td>\n",
       "      <td>Clara Callan</td>\n",
       "      <td>Richard Bruce Wright</td>\n",
       "      <td>new</td>\n",
       "      <td>HarperFlamingo Canada</td>\n",
       "      <td>Actresses</td>\n",
       "      <td>In a small town in Canada, Clara Callan reluct...</td>\n",
       "    </tr>\n",
       "    <tr>\n",
       "      <th>1</th>\n",
       "      <td>1</td>\n",
       "      <td>0374157065</td>\n",
       "      <td>Flu: The Story of the Great Influenza Pandemic...</td>\n",
       "      <td>Gina Bari Kolata</td>\n",
       "      <td>old</td>\n",
       "      <td>Farrar Straus Giroux</td>\n",
       "      <td>Medical</td>\n",
       "      <td>Describes the great flu epidemic of 1918, an o...</td>\n",
       "    </tr>\n",
       "    <tr>\n",
       "      <th>2</th>\n",
       "      <td>2</td>\n",
       "      <td>0399135782</td>\n",
       "      <td>The Kitchen God's Wife</td>\n",
       "      <td>Amy Tan</td>\n",
       "      <td>old</td>\n",
       "      <td>Putnam Pub Group</td>\n",
       "      <td>Fiction</td>\n",
       "      <td>A Chinese immigrant who is convinced she is dy...</td>\n",
       "    </tr>\n",
       "    <tr>\n",
       "      <th>3</th>\n",
       "      <td>3</td>\n",
       "      <td>0440234743</td>\n",
       "      <td>The Testament</td>\n",
       "      <td>John Grisham</td>\n",
       "      <td>old</td>\n",
       "      <td>Dell</td>\n",
       "      <td>Fiction</td>\n",
       "      <td>A suicidal billionaire, a burnt-out Washington...</td>\n",
       "    </tr>\n",
       "    <tr>\n",
       "      <th>4</th>\n",
       "      <td>4</td>\n",
       "      <td>0452264464</td>\n",
       "      <td>Beloved (Plume Contemporary Fiction)</td>\n",
       "      <td>Toni Morrison</td>\n",
       "      <td>old</td>\n",
       "      <td>Plume</td>\n",
       "      <td>Fiction</td>\n",
       "      <td>Staring unflinchingly into the abyss of slaver...</td>\n",
       "    </tr>\n",
       "  </tbody>\n",
       "</table>\n",
       "</div>"
      ],
      "text/plain": [
       "   Unnamed: 0        isbn                                              title  \\\n",
       "0           0  0002005018                                       Clara Callan   \n",
       "1           1  0374157065  Flu: The Story of the Great Influenza Pandemic...   \n",
       "2           2  0399135782                             The Kitchen God's Wife   \n",
       "3           3  0440234743                                      The Testament   \n",
       "4           4  0452264464               Beloved (Plume Contemporary Fiction)   \n",
       "\n",
       "                 author pub_year              publisher categories  \\\n",
       "0  Richard Bruce Wright      new  HarperFlamingo Canada  Actresses   \n",
       "1      Gina Bari Kolata      old   Farrar Straus Giroux    Medical   \n",
       "2               Amy Tan      old       Putnam Pub Group    Fiction   \n",
       "3          John Grisham      old                   Dell    Fiction   \n",
       "4         Toni Morrison      old                  Plume    Fiction   \n",
       "\n",
       "                                         description  \n",
       "0  In a small town in Canada, Clara Callan reluct...  \n",
       "1  Describes the great flu epidemic of 1918, an o...  \n",
       "2  A Chinese immigrant who is convinced she is dy...  \n",
       "3  A suicidal billionaire, a burnt-out Washington...  \n",
       "4  Staring unflinchingly into the abyss of slaver...  "
      ]
     },
     "execution_count": 27,
     "metadata": {},
     "output_type": "execute_result"
    }
   ],
   "source": [
    "data.head(5)"
   ]
  },
  {
   "cell_type": "code",
   "execution_count": 28,
   "id": "33afad77",
   "metadata": {},
   "outputs": [],
   "source": [
    "import seaborn as sns\n"
   ]
  },
  {
   "cell_type": "code",
   "execution_count": 29,
   "id": "70bf8611",
   "metadata": {},
   "outputs": [
    {
     "data": {
      "text/plain": [
       "<AxesSubplot: xlabel='pub_year', ylabel='Count'>"
      ]
     },
     "execution_count": 29,
     "metadata": {},
     "output_type": "execute_result"
    },
    {
     "data": {
      "image/png": "[encoded data removed]",
      "text/plain": [
       "<Figure size 640x480 with 1 Axes>"
      ]
     },
     "metadata": {},
     "output_type": "display_data"
    }
   ],
   "source": [
    "sns.histplot(data['pub_year'])"
   ]
  },
  {
   "cell_type": "code",
   "execution_count": 34,
   "id": "d7b01a1c",
   "metadata": {},
   "outputs": [
    {
     "data": {
      "text/plain": [
       "(15452, 8)"
      ]
     },
     "execution_count": 34,
     "metadata": {},
     "output_type": "execute_result"
    }
   ],
   "source": [
    "data.shape"
   ]
  },
  {
   "cell_type": "code",
   "execution_count": 35,
   "id": "82b52125",
   "metadata": {},
   "outputs": [
    {
     "data": {
      "text/plain": [
       "0        Actresses\n",
       "1          Medical\n",
       "2          Fiction\n",
       "3          Fiction\n",
       "4          Fiction\n",
       "           ...    \n",
       "15447          NaN\n",
       "15448          NaN\n",
       "15449          NaN\n",
       "15450          NaN\n",
       "15451          NaN\n",
       "Name: categories, Length: 15452, dtype: object"
      ]
     },
     "execution_count": 35,
     "metadata": {},
     "output_type": "execute_result"
    }
   ],
   "source": [
    "data['categories']"
   ]
  },
  {
   "cell_type": "code",
   "execution_count": null,
   "id": "ca770cce",
   "metadata": {},
   "outputs": [],
   "source": []
  }
 ],
 "metadata": {
  "kernelspec": {
   "display_name": "Python 3 (ipykernel)",
   "language": "python",
   "name": "python3"
  },
  "language_info": {
   "codemirror_mode": {
    "name": "ipython",
    "version": 3
   },
   "file_extension": ".py",
   "mimetype": "text/x-python",
   "name": "python",
   "nbconvert_exporter": "python",
   "pygments_lexer": "ipython3",
   "version": "3.9.13"
  }
 },
 "nbformat": 4,
 "nbformat_minor": 5
}
